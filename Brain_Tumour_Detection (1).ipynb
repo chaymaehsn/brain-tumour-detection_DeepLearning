{
  "nbformat": 4,
  "nbformat_minor": 0,
  "metadata": {
    "colab": {
      "provenance": [],
      "gpuType": "T4"
    },
    "kernelspec": {
      "name": "python3",
      "display_name": "Python 3"
    },
    "language_info": {
      "name": "python"
    },
    "accelerator": "GPU"
  },
  "cells": [
    {
      "cell_type": "code",
      "source": [
        "import numpy as np\n",
        "import matplotlib.pyplot as plt\n",
        "import os\n",
        "import math\n",
        "import shutil\n",
        "import glob"
      ],
      "metadata": {
        "id": "porkvvnHTX4a"
      },
      "execution_count": 1,
      "outputs": []
    },
    {
      "cell_type": "code",
      "source": [
        "from google.colab import files\n",
        "uploaded = files.upload()\n"
      ],
      "metadata": {
        "colab": {
          "base_uri": "https://localhost:8080/",
          "height": 72
        },
        "id": "nDTpNW8AVzq4",
        "outputId": "cbaa2382-2521-48c9-a630-ddd109f4fc51"
      },
      "execution_count": 2,
      "outputs": [
        {
          "output_type": "display_data",
          "data": {
            "text/plain": [
              "<IPython.core.display.HTML object>"
            ],
            "text/html": [
              "\n",
              "     <input type=\"file\" id=\"files-618b7d07-8f33-4e99-805c-90aaeb22990d\" name=\"files[]\" multiple disabled\n",
              "        style=\"border:none\" />\n",
              "     <output id=\"result-618b7d07-8f33-4e99-805c-90aaeb22990d\">\n",
              "      Upload widget is only available when the cell has been executed in the\n",
              "      current browser session. Please rerun this cell to enable.\n",
              "      </output>\n",
              "      <script>// Copyright 2017 Google LLC\n",
              "//\n",
              "// Licensed under the Apache License, Version 2.0 (the \"License\");\n",
              "// you may not use this file except in compliance with the License.\n",
              "// You may obtain a copy of the License at\n",
              "//\n",
              "//      http://www.apache.org/licenses/LICENSE-2.0\n",
              "//\n",
              "// Unless required by applicable law or agreed to in writing, software\n",
              "// distributed under the License is distributed on an \"AS IS\" BASIS,\n",
              "// WITHOUT WARRANTIES OR CONDITIONS OF ANY KIND, either express or implied.\n",
              "// See the License for the specific language governing permissions and\n",
              "// limitations under the License.\n",
              "\n",
              "/**\n",
              " * @fileoverview Helpers for google.colab Python module.\n",
              " */\n",
              "(function(scope) {\n",
              "function span(text, styleAttributes = {}) {\n",
              "  const element = document.createElement('span');\n",
              "  element.textContent = text;\n",
              "  for (const key of Object.keys(styleAttributes)) {\n",
              "    element.style[key] = styleAttributes[key];\n",
              "  }\n",
              "  return element;\n",
              "}\n",
              "\n",
              "// Max number of bytes which will be uploaded at a time.\n",
              "const MAX_PAYLOAD_SIZE = 100 * 1024;\n",
              "\n",
              "function _uploadFiles(inputId, outputId) {\n",
              "  const steps = uploadFilesStep(inputId, outputId);\n",
              "  const outputElement = document.getElementById(outputId);\n",
              "  // Cache steps on the outputElement to make it available for the next call\n",
              "  // to uploadFilesContinue from Python.\n",
              "  outputElement.steps = steps;\n",
              "\n",
              "  return _uploadFilesContinue(outputId);\n",
              "}\n",
              "\n",
              "// This is roughly an async generator (not supported in the browser yet),\n",
              "// where there are multiple asynchronous steps and the Python side is going\n",
              "// to poll for completion of each step.\n",
              "// This uses a Promise to block the python side on completion of each step,\n",
              "// then passes the result of the previous step as the input to the next step.\n",
              "function _uploadFilesContinue(outputId) {\n",
              "  const outputElement = document.getElementById(outputId);\n",
              "  const steps = outputElement.steps;\n",
              "\n",
              "  const next = steps.next(outputElement.lastPromiseValue);\n",
              "  return Promise.resolve(next.value.promise).then((value) => {\n",
              "    // Cache the last promise value to make it available to the next\n",
              "    // step of the generator.\n",
              "    outputElement.lastPromiseValue = value;\n",
              "    return next.value.response;\n",
              "  });\n",
              "}\n",
              "\n",
              "/**\n",
              " * Generator function which is called between each async step of the upload\n",
              " * process.\n",
              " * @param {string} inputId Element ID of the input file picker element.\n",
              " * @param {string} outputId Element ID of the output display.\n",
              " * @return {!Iterable<!Object>} Iterable of next steps.\n",
              " */\n",
              "function* uploadFilesStep(inputId, outputId) {\n",
              "  const inputElement = document.getElementById(inputId);\n",
              "  inputElement.disabled = false;\n",
              "\n",
              "  const outputElement = document.getElementById(outputId);\n",
              "  outputElement.innerHTML = '';\n",
              "\n",
              "  const pickedPromise = new Promise((resolve) => {\n",
              "    inputElement.addEventListener('change', (e) => {\n",
              "      resolve(e.target.files);\n",
              "    });\n",
              "  });\n",
              "\n",
              "  const cancel = document.createElement('button');\n",
              "  inputElement.parentElement.appendChild(cancel);\n",
              "  cancel.textContent = 'Cancel upload';\n",
              "  const cancelPromise = new Promise((resolve) => {\n",
              "    cancel.onclick = () => {\n",
              "      resolve(null);\n",
              "    };\n",
              "  });\n",
              "\n",
              "  // Wait for the user to pick the files.\n",
              "  const files = yield {\n",
              "    promise: Promise.race([pickedPromise, cancelPromise]),\n",
              "    response: {\n",
              "      action: 'starting',\n",
              "    }\n",
              "  };\n",
              "\n",
              "  cancel.remove();\n",
              "\n",
              "  // Disable the input element since further picks are not allowed.\n",
              "  inputElement.disabled = true;\n",
              "\n",
              "  if (!files) {\n",
              "    return {\n",
              "      response: {\n",
              "        action: 'complete',\n",
              "      }\n",
              "    };\n",
              "  }\n",
              "\n",
              "  for (const file of files) {\n",
              "    const li = document.createElement('li');\n",
              "    li.append(span(file.name, {fontWeight: 'bold'}));\n",
              "    li.append(span(\n",
              "        `(${file.type || 'n/a'}) - ${file.size} bytes, ` +\n",
              "        `last modified: ${\n",
              "            file.lastModifiedDate ? file.lastModifiedDate.toLocaleDateString() :\n",
              "                                    'n/a'} - `));\n",
              "    const percent = span('0% done');\n",
              "    li.appendChild(percent);\n",
              "\n",
              "    outputElement.appendChild(li);\n",
              "\n",
              "    const fileDataPromise = new Promise((resolve) => {\n",
              "      const reader = new FileReader();\n",
              "      reader.onload = (e) => {\n",
              "        resolve(e.target.result);\n",
              "      };\n",
              "      reader.readAsArrayBuffer(file);\n",
              "    });\n",
              "    // Wait for the data to be ready.\n",
              "    let fileData = yield {\n",
              "      promise: fileDataPromise,\n",
              "      response: {\n",
              "        action: 'continue',\n",
              "      }\n",
              "    };\n",
              "\n",
              "    // Use a chunked sending to avoid message size limits. See b/62115660.\n",
              "    let position = 0;\n",
              "    do {\n",
              "      const length = Math.min(fileData.byteLength - position, MAX_PAYLOAD_SIZE);\n",
              "      const chunk = new Uint8Array(fileData, position, length);\n",
              "      position += length;\n",
              "\n",
              "      const base64 = btoa(String.fromCharCode.apply(null, chunk));\n",
              "      yield {\n",
              "        response: {\n",
              "          action: 'append',\n",
              "          file: file.name,\n",
              "          data: base64,\n",
              "        },\n",
              "      };\n",
              "\n",
              "      let percentDone = fileData.byteLength === 0 ?\n",
              "          100 :\n",
              "          Math.round((position / fileData.byteLength) * 100);\n",
              "      percent.textContent = `${percentDone}% done`;\n",
              "\n",
              "    } while (position < fileData.byteLength);\n",
              "  }\n",
              "\n",
              "  // All done.\n",
              "  yield {\n",
              "    response: {\n",
              "      action: 'complete',\n",
              "    }\n",
              "  };\n",
              "}\n",
              "\n",
              "scope.google = scope.google || {};\n",
              "scope.google.colab = scope.google.colab || {};\n",
              "scope.google.colab._files = {\n",
              "  _uploadFiles,\n",
              "  _uploadFilesContinue,\n",
              "};\n",
              "})(self);\n",
              "</script> "
            ]
          },
          "metadata": {}
        },
        {
          "output_type": "stream",
          "name": "stdout",
          "text": [
            "Saving brain_tumor_dataset.zip to brain_tumor_dataset.zip\n"
          ]
        }
      ]
    },
    {
      "cell_type": "code",
      "source": [
        "!unzip brain_tumor_dataset.zip -d BrainTumorDataset\n"
      ],
      "metadata": {
        "colab": {
          "base_uri": "https://localhost:8080/"
        },
        "id": "jRghnfJ3V8nR",
        "outputId": "4208ae9e-c581-43cf-bf0a-7b50e43c1fe6"
      },
      "execution_count": 3,
      "outputs": [
        {
          "output_type": "stream",
          "name": "stdout",
          "text": [
            "Archive:  brain_tumor_dataset.zip\n",
            "   creating: BrainTumorDataset/brain_tumor_dataset/\n",
            "   creating: BrainTumorDataset/brain_tumor_dataset/no/\n",
            "  inflating: BrainTumorDataset/brain_tumor_dataset/no/1 no.jpeg  \n",
            "  inflating: BrainTumorDataset/brain_tumor_dataset/no/10 no.jpg  \n",
            "  inflating: BrainTumorDataset/brain_tumor_dataset/no/11 no.jpg  \n",
            "  inflating: BrainTumorDataset/brain_tumor_dataset/no/12 no.jpg  \n",
            "  inflating: BrainTumorDataset/brain_tumor_dataset/no/13 no.jpg  \n",
            "  inflating: BrainTumorDataset/brain_tumor_dataset/no/14 no.jpg  \n",
            "  inflating: BrainTumorDataset/brain_tumor_dataset/no/15 no.jpg  \n",
            "  inflating: BrainTumorDataset/brain_tumor_dataset/no/17 no.jpg  \n",
            "  inflating: BrainTumorDataset/brain_tumor_dataset/no/18 no.jpg  \n",
            "  inflating: BrainTumorDataset/brain_tumor_dataset/no/19 no.jpg  \n",
            "  inflating: BrainTumorDataset/brain_tumor_dataset/no/2 no.jpeg  \n",
            "  inflating: BrainTumorDataset/brain_tumor_dataset/no/20 no.jpg  \n",
            "  inflating: BrainTumorDataset/brain_tumor_dataset/no/21 no.jpg  \n",
            "  inflating: BrainTumorDataset/brain_tumor_dataset/no/22 no.jpg  \n",
            "  inflating: BrainTumorDataset/brain_tumor_dataset/no/23 no.jpg  \n",
            "  inflating: BrainTumorDataset/brain_tumor_dataset/no/24 no.jpg  \n",
            "  inflating: BrainTumorDataset/brain_tumor_dataset/no/25 no.jpg  \n",
            "  inflating: BrainTumorDataset/brain_tumor_dataset/no/26 no.jpg  \n",
            "  inflating: BrainTumorDataset/brain_tumor_dataset/no/27 no.jpg  \n",
            "  inflating: BrainTumorDataset/brain_tumor_dataset/no/28 no.jpg  \n",
            "  inflating: BrainTumorDataset/brain_tumor_dataset/no/29 no.jpg  \n",
            "  inflating: BrainTumorDataset/brain_tumor_dataset/no/3 no.jpg  \n",
            "  inflating: BrainTumorDataset/brain_tumor_dataset/no/30 no.jpg  \n",
            "  inflating: BrainTumorDataset/brain_tumor_dataset/no/31 no.jpg  \n",
            "  inflating: BrainTumorDataset/brain_tumor_dataset/no/32 no.jpg  \n",
            "  inflating: BrainTumorDataset/brain_tumor_dataset/no/33 no.jpg  \n",
            "  inflating: BrainTumorDataset/brain_tumor_dataset/no/34 no.jpg  \n",
            "  inflating: BrainTumorDataset/brain_tumor_dataset/no/35 no.jpg  \n",
            "  inflating: BrainTumorDataset/brain_tumor_dataset/no/36 no.jpg  \n",
            "  inflating: BrainTumorDataset/brain_tumor_dataset/no/37 no.jpg  \n",
            "  inflating: BrainTumorDataset/brain_tumor_dataset/no/38 no.jpg  \n",
            "  inflating: BrainTumorDataset/brain_tumor_dataset/no/39 no.jpg  \n",
            "  inflating: BrainTumorDataset/brain_tumor_dataset/no/4 no.jpg  \n",
            "  inflating: BrainTumorDataset/brain_tumor_dataset/no/40 no.jpg  \n",
            "  inflating: BrainTumorDataset/brain_tumor_dataset/no/41 no.jpg  \n",
            "  inflating: BrainTumorDataset/brain_tumor_dataset/no/42 no.jpg  \n",
            "  inflating: BrainTumorDataset/brain_tumor_dataset/no/43 no.jpg  \n",
            "  inflating: BrainTumorDataset/brain_tumor_dataset/no/44no.jpg  \n",
            "  inflating: BrainTumorDataset/brain_tumor_dataset/no/45 no.jpg  \n",
            "  inflating: BrainTumorDataset/brain_tumor_dataset/no/46 no.jpg  \n",
            "  inflating: BrainTumorDataset/brain_tumor_dataset/no/47 no.jpg  \n",
            "  inflating: BrainTumorDataset/brain_tumor_dataset/no/48 no.jpeg  \n",
            "  inflating: BrainTumorDataset/brain_tumor_dataset/no/49 no.jpg  \n",
            "  inflating: BrainTumorDataset/brain_tumor_dataset/no/5 no.jpg  \n",
            "  inflating: BrainTumorDataset/brain_tumor_dataset/no/50 no.jpg  \n",
            "  inflating: BrainTumorDataset/brain_tumor_dataset/no/6 no.jpg  \n",
            "  inflating: BrainTumorDataset/brain_tumor_dataset/no/7 no.jpg  \n",
            "  inflating: BrainTumorDataset/brain_tumor_dataset/no/8 no.jpg  \n",
            "  inflating: BrainTumorDataset/brain_tumor_dataset/no/9 no.jpg  \n",
            "  inflating: BrainTumorDataset/brain_tumor_dataset/no/N1.JPG  \n",
            "  inflating: BrainTumorDataset/brain_tumor_dataset/no/N11.jpg  \n",
            "  inflating: BrainTumorDataset/brain_tumor_dataset/no/N15.jpg  \n",
            "  inflating: BrainTumorDataset/brain_tumor_dataset/no/N16.jpg  \n",
            "  inflating: BrainTumorDataset/brain_tumor_dataset/no/N17.jpg  \n",
            "  inflating: BrainTumorDataset/brain_tumor_dataset/no/N19.JPG  \n",
            "  inflating: BrainTumorDataset/brain_tumor_dataset/no/N2.JPG  \n",
            "  inflating: BrainTumorDataset/brain_tumor_dataset/no/N20.JPG  \n",
            "  inflating: BrainTumorDataset/brain_tumor_dataset/no/N21.jpg  \n",
            "  inflating: BrainTumorDataset/brain_tumor_dataset/no/N22.JPG  \n",
            "  inflating: BrainTumorDataset/brain_tumor_dataset/no/N26.JPG  \n",
            "  inflating: BrainTumorDataset/brain_tumor_dataset/no/N3.jpg  \n",
            "  inflating: BrainTumorDataset/brain_tumor_dataset/no/N5.jpg  \n",
            "  inflating: BrainTumorDataset/brain_tumor_dataset/no/N6.jpg  \n",
            "  inflating: BrainTumorDataset/brain_tumor_dataset/no/no 1.jpg  \n",
            "  inflating: BrainTumorDataset/brain_tumor_dataset/no/no 10.jpg  \n",
            "  inflating: BrainTumorDataset/brain_tumor_dataset/no/no 100.jpg  \n",
            "  inflating: BrainTumorDataset/brain_tumor_dataset/no/no 2.jpg  \n",
            "  inflating: BrainTumorDataset/brain_tumor_dataset/no/no 3.jpg  \n",
            "  inflating: BrainTumorDataset/brain_tumor_dataset/no/no 4.jpg  \n",
            "  inflating: BrainTumorDataset/brain_tumor_dataset/no/no 5.jpeg  \n",
            "  inflating: BrainTumorDataset/brain_tumor_dataset/no/no 6.jpg  \n",
            "  inflating: BrainTumorDataset/brain_tumor_dataset/no/no 7.jpeg  \n",
            "  inflating: BrainTumorDataset/brain_tumor_dataset/no/no 8.jpg  \n",
            "  inflating: BrainTumorDataset/brain_tumor_dataset/no/no 89.jpg  \n",
            "  inflating: BrainTumorDataset/brain_tumor_dataset/no/no 9.png  \n",
            "  inflating: BrainTumorDataset/brain_tumor_dataset/no/no 90.jpg  \n",
            "  inflating: BrainTumorDataset/brain_tumor_dataset/no/no 91.jpeg  \n",
            "  inflating: BrainTumorDataset/brain_tumor_dataset/no/no 92.jpg  \n",
            "  inflating: BrainTumorDataset/brain_tumor_dataset/no/no 923.jpg  \n",
            "  inflating: BrainTumorDataset/brain_tumor_dataset/no/no 94.jpg  \n",
            "  inflating: BrainTumorDataset/brain_tumor_dataset/no/no 95.jpg  \n",
            "  inflating: BrainTumorDataset/brain_tumor_dataset/no/no 96.jpg  \n",
            "  inflating: BrainTumorDataset/brain_tumor_dataset/no/no 97.jpg  \n",
            "  inflating: BrainTumorDataset/brain_tumor_dataset/no/no 98.jpg  \n",
            "  inflating: BrainTumorDataset/brain_tumor_dataset/no/no 99.jpg  \n",
            "  inflating: BrainTumorDataset/brain_tumor_dataset/no/no.jpg  \n",
            "  inflating: BrainTumorDataset/brain_tumor_dataset/no/No11.jpg  \n",
            "  inflating: BrainTumorDataset/brain_tumor_dataset/no/No12.jpg  \n",
            "  inflating: BrainTumorDataset/brain_tumor_dataset/no/No13.jpg  \n",
            "  inflating: BrainTumorDataset/brain_tumor_dataset/no/No14.jpg  \n",
            "  inflating: BrainTumorDataset/brain_tumor_dataset/no/No15.jpg  \n",
            "  inflating: BrainTumorDataset/brain_tumor_dataset/no/No16.jpg  \n",
            "  inflating: BrainTumorDataset/brain_tumor_dataset/no/No17.jpg  \n",
            "  inflating: BrainTumorDataset/brain_tumor_dataset/no/No18.jpg  \n",
            "  inflating: BrainTumorDataset/brain_tumor_dataset/no/No19.jpg  \n",
            "  inflating: BrainTumorDataset/brain_tumor_dataset/no/No20.jpg  \n",
            "  inflating: BrainTumorDataset/brain_tumor_dataset/no/No21.jpg  \n",
            "  inflating: BrainTumorDataset/brain_tumor_dataset/no/No22.jpg  \n",
            "   creating: BrainTumorDataset/brain_tumor_dataset/yes/\n",
            "  inflating: BrainTumorDataset/brain_tumor_dataset/yes/Y1.jpg  \n",
            "  inflating: BrainTumorDataset/brain_tumor_dataset/yes/Y10.jpg  \n",
            "  inflating: BrainTumorDataset/brain_tumor_dataset/yes/Y100.JPG  \n",
            "  inflating: BrainTumorDataset/brain_tumor_dataset/yes/Y101.jpg  \n",
            "  inflating: BrainTumorDataset/brain_tumor_dataset/yes/Y102.jpg  \n",
            "  inflating: BrainTumorDataset/brain_tumor_dataset/yes/Y103.jpg  \n",
            "  inflating: BrainTumorDataset/brain_tumor_dataset/yes/Y104.jpg  \n",
            "  inflating: BrainTumorDataset/brain_tumor_dataset/yes/Y105.jpg  \n",
            "  inflating: BrainTumorDataset/brain_tumor_dataset/yes/Y106.jpg  \n",
            "  inflating: BrainTumorDataset/brain_tumor_dataset/yes/Y107.jpg  \n",
            "  inflating: BrainTumorDataset/brain_tumor_dataset/yes/Y108.jpg  \n",
            "  inflating: BrainTumorDataset/brain_tumor_dataset/yes/Y109.JPG  \n",
            "  inflating: BrainTumorDataset/brain_tumor_dataset/yes/Y11.jpg  \n",
            "  inflating: BrainTumorDataset/brain_tumor_dataset/yes/Y111.JPG  \n",
            "  inflating: BrainTumorDataset/brain_tumor_dataset/yes/Y112.JPG  \n",
            "  inflating: BrainTumorDataset/brain_tumor_dataset/yes/Y113.JPG  \n",
            "  inflating: BrainTumorDataset/brain_tumor_dataset/yes/Y114.JPG  \n",
            "  inflating: BrainTumorDataset/brain_tumor_dataset/yes/Y115.JPG  \n",
            "  inflating: BrainTumorDataset/brain_tumor_dataset/yes/Y116.JPG  \n",
            "  inflating: BrainTumorDataset/brain_tumor_dataset/yes/Y117.JPG  \n",
            "  inflating: BrainTumorDataset/brain_tumor_dataset/yes/Y12.jpg  \n",
            "  inflating: BrainTumorDataset/brain_tumor_dataset/yes/Y120.JPG  \n",
            "  inflating: BrainTumorDataset/brain_tumor_dataset/yes/Y13.jpg  \n",
            "  inflating: BrainTumorDataset/brain_tumor_dataset/yes/Y14.jpg  \n",
            "  inflating: BrainTumorDataset/brain_tumor_dataset/yes/Y146.JPG  \n",
            "  inflating: BrainTumorDataset/brain_tumor_dataset/yes/Y147.JPG  \n",
            "  inflating: BrainTumorDataset/brain_tumor_dataset/yes/Y148.JPG  \n",
            "  inflating: BrainTumorDataset/brain_tumor_dataset/yes/Y15.jpg  \n",
            "  inflating: BrainTumorDataset/brain_tumor_dataset/yes/Y153.jpg  \n",
            "  inflating: BrainTumorDataset/brain_tumor_dataset/yes/Y154.jpg  \n",
            "  inflating: BrainTumorDataset/brain_tumor_dataset/yes/Y155.JPG  \n",
            "  inflating: BrainTumorDataset/brain_tumor_dataset/yes/Y156.JPG  \n",
            "  inflating: BrainTumorDataset/brain_tumor_dataset/yes/Y157.JPG  \n",
            "  inflating: BrainTumorDataset/brain_tumor_dataset/yes/Y158.JPG  \n",
            "  inflating: BrainTumorDataset/brain_tumor_dataset/yes/Y159.JPG  \n",
            "  inflating: BrainTumorDataset/brain_tumor_dataset/yes/Y16.JPG  \n",
            "  inflating: BrainTumorDataset/brain_tumor_dataset/yes/Y160.JPG  \n",
            "  inflating: BrainTumorDataset/brain_tumor_dataset/yes/Y161.JPG  \n",
            "  inflating: BrainTumorDataset/brain_tumor_dataset/yes/Y162.jpg  \n",
            "  inflating: BrainTumorDataset/brain_tumor_dataset/yes/Y163.JPG  \n",
            "  inflating: BrainTumorDataset/brain_tumor_dataset/yes/Y164.JPG  \n",
            "  inflating: BrainTumorDataset/brain_tumor_dataset/yes/Y165.JPG  \n",
            "  inflating: BrainTumorDataset/brain_tumor_dataset/yes/Y166.JPG  \n",
            "  inflating: BrainTumorDataset/brain_tumor_dataset/yes/Y167.JPG  \n",
            "  inflating: BrainTumorDataset/brain_tumor_dataset/yes/Y168.jpg  \n",
            "  inflating: BrainTumorDataset/brain_tumor_dataset/yes/Y169.jpg  \n",
            "  inflating: BrainTumorDataset/brain_tumor_dataset/yes/Y17.jpg  \n",
            "  inflating: BrainTumorDataset/brain_tumor_dataset/yes/Y170.JPG  \n",
            "  inflating: BrainTumorDataset/brain_tumor_dataset/yes/Y18.JPG  \n",
            "  inflating: BrainTumorDataset/brain_tumor_dataset/yes/Y180.jpg  \n",
            "  inflating: BrainTumorDataset/brain_tumor_dataset/yes/Y181.jpg  \n",
            "  inflating: BrainTumorDataset/brain_tumor_dataset/yes/Y182.JPG  \n",
            "  inflating: BrainTumorDataset/brain_tumor_dataset/yes/Y183.jpg  \n",
            "  inflating: BrainTumorDataset/brain_tumor_dataset/yes/Y184.JPG  \n",
            "  inflating: BrainTumorDataset/brain_tumor_dataset/yes/Y185.jpg  \n",
            "  inflating: BrainTumorDataset/brain_tumor_dataset/yes/Y186.jpg  \n",
            "  inflating: BrainTumorDataset/brain_tumor_dataset/yes/Y187.jpg  \n",
            "  inflating: BrainTumorDataset/brain_tumor_dataset/yes/Y188.jpg  \n",
            "  inflating: BrainTumorDataset/brain_tumor_dataset/yes/Y19.JPG  \n",
            "  inflating: BrainTumorDataset/brain_tumor_dataset/yes/Y192.JPG  \n",
            "  inflating: BrainTumorDataset/brain_tumor_dataset/yes/Y193.JPG  \n",
            "  inflating: BrainTumorDataset/brain_tumor_dataset/yes/Y194.jpg  \n",
            "  inflating: BrainTumorDataset/brain_tumor_dataset/yes/Y195.JPG  \n",
            "  inflating: BrainTumorDataset/brain_tumor_dataset/yes/Y2.jpg  \n",
            "  inflating: BrainTumorDataset/brain_tumor_dataset/yes/Y20.jpg  \n",
            "  inflating: BrainTumorDataset/brain_tumor_dataset/yes/Y21.jpg  \n",
            "  inflating: BrainTumorDataset/brain_tumor_dataset/yes/Y22.jpg  \n",
            "  inflating: BrainTumorDataset/brain_tumor_dataset/yes/Y23.JPG  \n",
            "  inflating: BrainTumorDataset/brain_tumor_dataset/yes/Y24.jpg  \n",
            "  inflating: BrainTumorDataset/brain_tumor_dataset/yes/Y242.JPG  \n",
            "  inflating: BrainTumorDataset/brain_tumor_dataset/yes/Y243.JPG  \n",
            "  inflating: BrainTumorDataset/brain_tumor_dataset/yes/Y244.JPG  \n",
            "  inflating: BrainTumorDataset/brain_tumor_dataset/yes/Y245.jpg  \n",
            "  inflating: BrainTumorDataset/brain_tumor_dataset/yes/Y246.JPG  \n",
            "  inflating: BrainTumorDataset/brain_tumor_dataset/yes/Y247.JPG  \n",
            "  inflating: BrainTumorDataset/brain_tumor_dataset/yes/Y248.JPG  \n",
            "  inflating: BrainTumorDataset/brain_tumor_dataset/yes/Y249.JPG  \n",
            "  inflating: BrainTumorDataset/brain_tumor_dataset/yes/Y25.jpg  \n",
            "  inflating: BrainTumorDataset/brain_tumor_dataset/yes/Y250.jpg  \n",
            "  inflating: BrainTumorDataset/brain_tumor_dataset/yes/Y251.JPG  \n",
            "  inflating: BrainTumorDataset/brain_tumor_dataset/yes/Y252.jpg  \n",
            "  inflating: BrainTumorDataset/brain_tumor_dataset/yes/Y253.JPG  \n",
            "  inflating: BrainTumorDataset/brain_tumor_dataset/yes/Y254.jpg  \n",
            "  inflating: BrainTumorDataset/brain_tumor_dataset/yes/Y255.JPG  \n",
            "  inflating: BrainTumorDataset/brain_tumor_dataset/yes/Y256.JPG  \n",
            "  inflating: BrainTumorDataset/brain_tumor_dataset/yes/Y257.jpg  \n",
            "  inflating: BrainTumorDataset/brain_tumor_dataset/yes/Y258.JPG  \n",
            "  inflating: BrainTumorDataset/brain_tumor_dataset/yes/Y259.JPG  \n",
            "  inflating: BrainTumorDataset/brain_tumor_dataset/yes/Y26.jpg  \n",
            "  inflating: BrainTumorDataset/brain_tumor_dataset/yes/Y27.jpg  \n",
            "  inflating: BrainTumorDataset/brain_tumor_dataset/yes/Y28.jpg  \n",
            "  inflating: BrainTumorDataset/brain_tumor_dataset/yes/Y29.jpg  \n",
            "  inflating: BrainTumorDataset/brain_tumor_dataset/yes/Y3.jpg  \n",
            "  inflating: BrainTumorDataset/brain_tumor_dataset/yes/Y30.jpg  \n",
            "  inflating: BrainTumorDataset/brain_tumor_dataset/yes/Y31.jpg  \n",
            "  inflating: BrainTumorDataset/brain_tumor_dataset/yes/Y32.jpg  \n",
            "  inflating: BrainTumorDataset/brain_tumor_dataset/yes/Y33.jpg  \n",
            "  inflating: BrainTumorDataset/brain_tumor_dataset/yes/Y34.jpg  \n",
            "  inflating: BrainTumorDataset/brain_tumor_dataset/yes/Y35.jpg  \n",
            "  inflating: BrainTumorDataset/brain_tumor_dataset/yes/Y36.JPG  \n",
            "  inflating: BrainTumorDataset/brain_tumor_dataset/yes/Y37.jpg  \n",
            "  inflating: BrainTumorDataset/brain_tumor_dataset/yes/Y38.jpg  \n",
            "  inflating: BrainTumorDataset/brain_tumor_dataset/yes/Y39.jpg  \n",
            "  inflating: BrainTumorDataset/brain_tumor_dataset/yes/Y4.jpg  \n",
            "  inflating: BrainTumorDataset/brain_tumor_dataset/yes/Y40.JPG  \n",
            "  inflating: BrainTumorDataset/brain_tumor_dataset/yes/Y41.jpg  \n",
            "  inflating: BrainTumorDataset/brain_tumor_dataset/yes/Y42.jpg  \n",
            "  inflating: BrainTumorDataset/brain_tumor_dataset/yes/Y44.JPG  \n",
            "  inflating: BrainTumorDataset/brain_tumor_dataset/yes/Y45.JPG  \n",
            "  inflating: BrainTumorDataset/brain_tumor_dataset/yes/Y46.jpg  \n",
            "  inflating: BrainTumorDataset/brain_tumor_dataset/yes/Y47.JPG  \n",
            "  inflating: BrainTumorDataset/brain_tumor_dataset/yes/Y49.JPG  \n",
            "  inflating: BrainTumorDataset/brain_tumor_dataset/yes/Y50.JPG  \n",
            "  inflating: BrainTumorDataset/brain_tumor_dataset/yes/Y51.jpg  \n",
            "  inflating: BrainTumorDataset/brain_tumor_dataset/yes/Y52.jpg  \n",
            "  inflating: BrainTumorDataset/brain_tumor_dataset/yes/Y53.jpg  \n",
            "  inflating: BrainTumorDataset/brain_tumor_dataset/yes/Y54.jpg  \n",
            "  inflating: BrainTumorDataset/brain_tumor_dataset/yes/Y55.jpg  \n",
            "  inflating: BrainTumorDataset/brain_tumor_dataset/yes/Y56.jpg  \n",
            "  inflating: BrainTumorDataset/brain_tumor_dataset/yes/Y58.JPG  \n",
            "  inflating: BrainTumorDataset/brain_tumor_dataset/yes/Y59.JPG  \n",
            "  inflating: BrainTumorDataset/brain_tumor_dataset/yes/Y6.jpg  \n",
            "  inflating: BrainTumorDataset/brain_tumor_dataset/yes/Y60.jpg  \n",
            "  inflating: BrainTumorDataset/brain_tumor_dataset/yes/Y61.jpg  \n",
            "  inflating: BrainTumorDataset/brain_tumor_dataset/yes/Y62.jpg  \n",
            "  inflating: BrainTumorDataset/brain_tumor_dataset/yes/Y65.JPG  \n",
            "  inflating: BrainTumorDataset/brain_tumor_dataset/yes/Y66.JPG  \n",
            "  inflating: BrainTumorDataset/brain_tumor_dataset/yes/Y67.JPG  \n",
            "  inflating: BrainTumorDataset/brain_tumor_dataset/yes/Y69.jpg  \n",
            "  inflating: BrainTumorDataset/brain_tumor_dataset/yes/Y7.jpg  \n",
            "  inflating: BrainTumorDataset/brain_tumor_dataset/yes/Y70.jpg  \n",
            "  inflating: BrainTumorDataset/brain_tumor_dataset/yes/Y71.JPG  \n",
            "  inflating: BrainTumorDataset/brain_tumor_dataset/yes/Y73.jpg  \n",
            "  inflating: BrainTumorDataset/brain_tumor_dataset/yes/Y74.jpg  \n",
            "  inflating: BrainTumorDataset/brain_tumor_dataset/yes/Y75.JPG  \n",
            "  inflating: BrainTumorDataset/brain_tumor_dataset/yes/Y76.jpg  \n",
            "  inflating: BrainTumorDataset/brain_tumor_dataset/yes/Y77.jpg  \n",
            "  inflating: BrainTumorDataset/brain_tumor_dataset/yes/Y78.jpg  \n",
            "  inflating: BrainTumorDataset/brain_tumor_dataset/yes/Y79.jpg  \n",
            "  inflating: BrainTumorDataset/brain_tumor_dataset/yes/Y8.jpg  \n",
            "  inflating: BrainTumorDataset/brain_tumor_dataset/yes/Y81.jpg  \n",
            "  inflating: BrainTumorDataset/brain_tumor_dataset/yes/Y82.jpg  \n",
            "  inflating: BrainTumorDataset/brain_tumor_dataset/yes/Y85.JPG  \n",
            "  inflating: BrainTumorDataset/brain_tumor_dataset/yes/Y86.JPG  \n",
            "  inflating: BrainTumorDataset/brain_tumor_dataset/yes/Y89.JPG  \n",
            "  inflating: BrainTumorDataset/brain_tumor_dataset/yes/Y9.jpg  \n",
            "  inflating: BrainTumorDataset/brain_tumor_dataset/yes/Y90.jpg  \n",
            "  inflating: BrainTumorDataset/brain_tumor_dataset/yes/Y91.jpg  \n",
            "  inflating: BrainTumorDataset/brain_tumor_dataset/yes/Y92.jpg  \n",
            "  inflating: BrainTumorDataset/brain_tumor_dataset/yes/Y92.png  \n",
            "  inflating: BrainTumorDataset/brain_tumor_dataset/yes/Y95.jpg  \n",
            "  inflating: BrainTumorDataset/brain_tumor_dataset/yes/Y96.jpg  \n",
            "  inflating: BrainTumorDataset/brain_tumor_dataset/yes/Y97.JPG  \n",
            "  inflating: BrainTumorDataset/brain_tumor_dataset/yes/Y98.JPG  \n",
            "  inflating: BrainTumorDataset/brain_tumor_dataset/yes/Y99.JPG  \n"
          ]
        }
      ]
    },
    {
      "cell_type": "code",
      "source": [
        "# count the number of images in the respective classes 0- Brain Tumor and 1- healthy\n",
        "ROOT_DIR = \"/content/BrainTumorDataset/brain_tumor_dataset\"\n",
        "number_of_images = {}\n",
        "\n",
        "for dir in os.listdir(ROOT_DIR):\n",
        "  number_of_images[dir] = len(os.listdir(os.path.join(ROOT_DIR, dir)))\n",
        "\n",
        "number_of_images.items()"
      ],
      "metadata": {
        "colab": {
          "base_uri": "https://localhost:8080/"
        },
        "id": "uH2RQAAxWJL3",
        "outputId": "f23edff3-4211-4ed7-871d-2ca90c459874"
      },
      "execution_count": 4,
      "outputs": [
        {
          "output_type": "execute_result",
          "data": {
            "text/plain": [
              "dict_items([('yes', 155), ('no', 98)])"
            ]
          },
          "metadata": {},
          "execution_count": 4
        }
      ]
    },
    {
      "cell_type": "code",
      "source": [
        "os.listdir(\"/content/BrainTumorDataset/brain_tumor_dataset/yes\")"
      ],
      "metadata": {
        "colab": {
          "base_uri": "https://localhost:8080/"
        },
        "id": "hmND37UjXc9L",
        "outputId": "bff913f3-0bae-44bc-b086-c2f92fb67483"
      },
      "execution_count": 5,
      "outputs": [
        {
          "output_type": "execute_result",
          "data": {
            "text/plain": [
              "['Y102.jpg',\n",
              " 'Y166.JPG',\n",
              " 'Y153.jpg',\n",
              " 'Y106.jpg',\n",
              " 'Y37.jpg',\n",
              " 'Y154.jpg',\n",
              " 'Y28.jpg',\n",
              " 'Y58.JPG',\n",
              " 'Y27.jpg',\n",
              " 'Y76.jpg',\n",
              " 'Y6.jpg',\n",
              " 'Y165.JPG',\n",
              " 'Y78.jpg',\n",
              " 'Y96.jpg',\n",
              " 'Y187.jpg',\n",
              " 'Y259.JPG',\n",
              " 'Y158.JPG',\n",
              " 'Y195.JPG',\n",
              " 'Y2.jpg',\n",
              " 'Y55.jpg',\n",
              " 'Y114.JPG',\n",
              " 'Y256.JPG',\n",
              " 'Y163.JPG',\n",
              " 'Y29.jpg',\n",
              " 'Y20.jpg',\n",
              " 'Y82.jpg',\n",
              " 'Y182.JPG',\n",
              " 'Y244.JPG',\n",
              " 'Y193.JPG',\n",
              " 'Y33.jpg',\n",
              " 'Y252.jpg',\n",
              " 'Y17.jpg',\n",
              " 'Y104.jpg',\n",
              " 'Y32.jpg',\n",
              " 'Y70.jpg',\n",
              " 'Y31.jpg',\n",
              " 'Y69.jpg',\n",
              " 'Y188.jpg',\n",
              " 'Y186.jpg',\n",
              " 'Y35.jpg',\n",
              " 'Y148.JPG',\n",
              " 'Y95.jpg',\n",
              " 'Y30.jpg',\n",
              " 'Y146.JPG',\n",
              " 'Y155.JPG',\n",
              " 'Y51.jpg',\n",
              " 'Y242.JPG',\n",
              " 'Y15.jpg',\n",
              " 'Y250.jpg',\n",
              " 'Y18.JPG',\n",
              " 'Y248.JPG',\n",
              " 'Y8.jpg',\n",
              " 'Y25.jpg',\n",
              " 'Y156.JPG',\n",
              " 'Y39.jpg',\n",
              " 'Y60.jpg',\n",
              " 'Y107.jpg',\n",
              " 'Y71.JPG',\n",
              " 'Y50.JPG',\n",
              " 'Y46.jpg',\n",
              " 'Y45.JPG',\n",
              " 'Y1.jpg',\n",
              " 'Y183.jpg',\n",
              " 'Y73.jpg',\n",
              " 'Y16.JPG',\n",
              " 'Y111.JPG',\n",
              " 'Y159.JPG',\n",
              " 'Y168.jpg',\n",
              " 'Y169.jpg',\n",
              " 'Y247.JPG',\n",
              " 'Y112.JPG',\n",
              " 'Y23.JPG',\n",
              " 'Y42.jpg',\n",
              " 'Y74.jpg',\n",
              " 'Y56.jpg',\n",
              " 'Y19.JPG',\n",
              " 'Y181.jpg',\n",
              " 'Y26.jpg',\n",
              " 'Y53.jpg',\n",
              " 'Y120.JPG',\n",
              " 'Y9.jpg',\n",
              " 'Y185.jpg',\n",
              " 'Y85.JPG',\n",
              " 'Y164.JPG',\n",
              " 'Y49.JPG',\n",
              " 'Y105.jpg',\n",
              " 'Y66.JPG',\n",
              " 'Y61.jpg',\n",
              " 'Y167.JPG',\n",
              " 'Y41.jpg',\n",
              " 'Y21.jpg',\n",
              " 'Y47.JPG',\n",
              " 'Y86.JPG',\n",
              " 'Y90.jpg',\n",
              " 'Y108.jpg',\n",
              " 'Y40.JPG',\n",
              " 'Y12.jpg',\n",
              " 'Y34.jpg',\n",
              " 'Y52.jpg',\n",
              " 'Y91.jpg',\n",
              " 'Y194.jpg',\n",
              " 'Y245.jpg',\n",
              " 'Y14.jpg',\n",
              " 'Y103.jpg',\n",
              " 'Y115.JPG',\n",
              " 'Y38.jpg',\n",
              " 'Y99.JPG',\n",
              " 'Y77.jpg',\n",
              " 'Y251.JPG',\n",
              " 'Y101.jpg',\n",
              " 'Y170.JPG',\n",
              " 'Y253.JPG',\n",
              " 'Y116.JPG',\n",
              " 'Y92.png',\n",
              " 'Y62.jpg',\n",
              " 'Y184.JPG',\n",
              " 'Y180.jpg',\n",
              " 'Y257.jpg',\n",
              " 'Y67.JPG',\n",
              " 'Y249.JPG',\n",
              " 'Y92.jpg',\n",
              " 'Y24.jpg',\n",
              " 'Y11.jpg',\n",
              " 'Y98.JPG',\n",
              " 'Y113.JPG',\n",
              " 'Y109.JPG',\n",
              " 'Y258.JPG',\n",
              " 'Y13.jpg',\n",
              " 'Y254.jpg',\n",
              " 'Y160.JPG',\n",
              " 'Y162.jpg',\n",
              " 'Y157.JPG',\n",
              " 'Y3.jpg',\n",
              " 'Y147.JPG',\n",
              " 'Y65.JPG',\n",
              " 'Y89.JPG',\n",
              " 'Y81.jpg',\n",
              " 'Y4.jpg',\n",
              " 'Y59.JPG',\n",
              " 'Y243.JPG',\n",
              " 'Y246.JPG',\n",
              " 'Y10.jpg',\n",
              " 'Y255.JPG',\n",
              " 'Y36.JPG',\n",
              " 'Y79.jpg',\n",
              " 'Y100.JPG',\n",
              " 'Y117.JPG',\n",
              " 'Y161.JPG',\n",
              " 'Y192.JPG',\n",
              " 'Y44.JPG',\n",
              " 'Y7.jpg',\n",
              " 'Y97.JPG',\n",
              " 'Y22.jpg',\n",
              " 'Y75.JPG',\n",
              " 'Y54.jpg']"
            ]
          },
          "metadata": {},
          "execution_count": 5
        }
      ]
    },
    {
      "cell_type": "markdown",
      "source": [
        "# We will split the data such that\n",
        "\n",
        "\n",
        "*   70 % for train data\n",
        "*   15 % for validation\n",
        "*   15 % for testing\n",
        "\n"
      ],
      "metadata": {
        "id": "bRfXlhCbX9UO"
      }
    },
    {
      "cell_type": "code",
      "source": [
        "def dataFolder(p,split):\n",
        "  number_of_images = {\n",
        "        dir: len(os.listdir(os.path.join(ROOT_DIR, dir)))\n",
        "        for dir in os.listdir(ROOT_DIR)\n",
        "  }\n",
        "\n",
        "    # Création du dossier train si n'existe pas\n",
        "  if not os.path.exists(\"./\" + p):\n",
        "        os.mkdir(\"./\" + p)\n",
        "\n",
        "        for dir in os.listdir(ROOT_DIR):\n",
        "            os.makedirs(\"./\" + p + \"/\" + dir, exist_ok=True)\n",
        "\n",
        "            all_images = os.listdir(os.path.join(ROOT_DIR, dir))\n",
        "            n_total = len(all_images)\n",
        "            n_sample = math.floor(split * n_total) - 5\n",
        "\n",
        "            # Sécurité : éviter n_sample négatif ou supérieur à n_total\n",
        "            n_sample = max(0, min(n_sample, n_total))\n",
        "\n",
        "            selected = np.random.choice(all_images, size=n_sample, replace=False)\n",
        "\n",
        "            for img in selected:\n",
        "                src = os.path.join(ROOT_DIR, dir, img)\n",
        "                dst = os.path.join(\"./\" + p, dir, img)\n",
        "                shutil.copy2(src, dst)  # Copie sécurisée\n",
        "  else:\n",
        "    print(f\"{p} folder already exists.\")"
      ],
      "metadata": {
        "id": "Gp0_0Rf0YeBv"
      },
      "execution_count": 6,
      "outputs": []
    },
    {
      "cell_type": "code",
      "source": [
        "dataFolder(\"test\", 0.15)"
      ],
      "metadata": {
        "id": "Kg-iBWyBYd0V"
      },
      "execution_count": 7,
      "outputs": []
    },
    {
      "cell_type": "code",
      "source": [
        "dataFolder(\"train\", 0.7)"
      ],
      "metadata": {
        "id": "A_B9Fvr8-DT8"
      },
      "execution_count": 8,
      "outputs": []
    },
    {
      "cell_type": "code",
      "source": [
        "dataFolder(\"val\", 0.15)"
      ],
      "metadata": {
        "id": "Kn4GqYE0-Isv"
      },
      "execution_count": 9,
      "outputs": []
    },
    {
      "cell_type": "markdown",
      "source": [
        "# Model build"
      ],
      "metadata": {
        "id": "7n20oB8P-aWY"
      }
    },
    {
      "cell_type": "code",
      "source": [
        "import tensorflow as tf\n",
        "from tensorflow.keras.layers import Conv2D, MaxPooling2D, Flatten, Dense, Dropout, BatchNormalization, GlobalAveragePooling2D\n",
        "from tensorflow.keras.models import Sequential\n",
        "from tensorflow.keras.preprocessing.image import ImageDataGenerator\n",
        "\n"
      ],
      "metadata": {
        "id": "luroHHH--OAa"
      },
      "execution_count": 19,
      "outputs": []
    },
    {
      "cell_type": "code",
      "source": [
        "# CNN Model\n",
        "model = Sequential()\n",
        "\n",
        "model.add(Conv2D(filters=16,kernel_size=(3, 3), activation='relu', input_shape=(224,224,3)))\n",
        "\n",
        "model.add(Conv2D(filters=36,kernel_size=(3, 3), activation='relu',))\n",
        "model.add(MaxPooling2D(pool_size=(2, 2)))\n",
        "\n",
        "model.add(Conv2D(filters=64,kernel_size=(3, 3), activation='relu'))\n",
        "model.add(MaxPooling2D(pool_size=(2, 2)))\n",
        "\n",
        "model.add(Conv2D(filters=128,kernel_size=(3, 3), activation='relu'))\n",
        "model.add(MaxPooling2D(pool_size=(2, 2)))\n",
        "\n",
        "model.add(Dropout(rate=0.25))\n",
        "\n",
        "model.add(Flatten())\n",
        "model.add(Dense(units=64, activation='relu'))\n",
        "model.add(Dropout(rate=0.25))\n",
        "model.add(Dense(units=1, activation='sigmoid'))\n"
      ],
      "metadata": {
        "colab": {
          "base_uri": "https://localhost:8080/"
        },
        "id": "LH69wWHT-Z7C",
        "outputId": "51337af1-bab4-47e9-b4f9-edd79d9037e4"
      },
      "execution_count": 20,
      "outputs": [
        {
          "output_type": "stream",
          "name": "stderr",
          "text": [
            "/usr/local/lib/python3.11/dist-packages/keras/src/layers/convolutional/base_conv.py:107: UserWarning: Do not pass an `input_shape`/`input_dim` argument to a layer. When using Sequential models, prefer using an `Input(shape)` object as the first layer in the model instead.\n",
            "  super().__init__(activity_regularizer=activity_regularizer, **kwargs)\n"
          ]
        }
      ]
    },
    {
      "cell_type": "code",
      "source": [
        "model.summary()"
      ],
      "metadata": {
        "colab": {
          "base_uri": "https://localhost:8080/",
          "height": 544
        },
        "id": "SBfSyuReBb8k",
        "outputId": "3def027f-5221-4ed0-c161-de32a91ec59e"
      },
      "execution_count": 21,
      "outputs": [
        {
          "output_type": "display_data",
          "data": {
            "text/plain": [
              "\u001b[1mModel: \"sequential_1\"\u001b[0m\n"
            ],
            "text/html": [
              "<pre style=\"white-space:pre;overflow-x:auto;line-height:normal;font-family:Menlo,'DejaVu Sans Mono',consolas,'Courier New',monospace\"><span style=\"font-weight: bold\">Model: \"sequential_1\"</span>\n",
              "</pre>\n"
            ]
          },
          "metadata": {}
        },
        {
          "output_type": "display_data",
          "data": {
            "text/plain": [
              "┏━━━━━━━━━━━━━━━━━━━━━━━━━━━━━━━━━┳━━━━━━━━━━━━━━━━━━━━━━━━┳━━━━━━━━━━━━━━━┓\n",
              "┃\u001b[1m \u001b[0m\u001b[1mLayer (type)                   \u001b[0m\u001b[1m \u001b[0m┃\u001b[1m \u001b[0m\u001b[1mOutput Shape          \u001b[0m\u001b[1m \u001b[0m┃\u001b[1m \u001b[0m\u001b[1m      Param #\u001b[0m\u001b[1m \u001b[0m┃\n",
              "┡━━━━━━━━━━━━━━━━━━━━━━━━━━━━━━━━━╇━━━━━━━━━━━━━━━━━━━━━━━━╇━━━━━━━━━━━━━━━┩\n",
              "│ conv2d_4 (\u001b[38;5;33mConv2D\u001b[0m)               │ (\u001b[38;5;45mNone\u001b[0m, \u001b[38;5;34m222\u001b[0m, \u001b[38;5;34m222\u001b[0m, \u001b[38;5;34m16\u001b[0m)   │           \u001b[38;5;34m448\u001b[0m │\n",
              "├─────────────────────────────────┼────────────────────────┼───────────────┤\n",
              "│ conv2d_5 (\u001b[38;5;33mConv2D\u001b[0m)               │ (\u001b[38;5;45mNone\u001b[0m, \u001b[38;5;34m220\u001b[0m, \u001b[38;5;34m220\u001b[0m, \u001b[38;5;34m36\u001b[0m)   │         \u001b[38;5;34m5,220\u001b[0m │\n",
              "├─────────────────────────────────┼────────────────────────┼───────────────┤\n",
              "│ max_pooling2d_3 (\u001b[38;5;33mMaxPooling2D\u001b[0m)  │ (\u001b[38;5;45mNone\u001b[0m, \u001b[38;5;34m110\u001b[0m, \u001b[38;5;34m110\u001b[0m, \u001b[38;5;34m36\u001b[0m)   │             \u001b[38;5;34m0\u001b[0m │\n",
              "├─────────────────────────────────┼────────────────────────┼───────────────┤\n",
              "│ conv2d_6 (\u001b[38;5;33mConv2D\u001b[0m)               │ (\u001b[38;5;45mNone\u001b[0m, \u001b[38;5;34m108\u001b[0m, \u001b[38;5;34m108\u001b[0m, \u001b[38;5;34m64\u001b[0m)   │        \u001b[38;5;34m20,800\u001b[0m │\n",
              "├─────────────────────────────────┼────────────────────────┼───────────────┤\n",
              "│ max_pooling2d_4 (\u001b[38;5;33mMaxPooling2D\u001b[0m)  │ (\u001b[38;5;45mNone\u001b[0m, \u001b[38;5;34m54\u001b[0m, \u001b[38;5;34m54\u001b[0m, \u001b[38;5;34m64\u001b[0m)     │             \u001b[38;5;34m0\u001b[0m │\n",
              "├─────────────────────────────────┼────────────────────────┼───────────────┤\n",
              "│ conv2d_7 (\u001b[38;5;33mConv2D\u001b[0m)               │ (\u001b[38;5;45mNone\u001b[0m, \u001b[38;5;34m52\u001b[0m, \u001b[38;5;34m52\u001b[0m, \u001b[38;5;34m128\u001b[0m)    │        \u001b[38;5;34m73,856\u001b[0m │\n",
              "├─────────────────────────────────┼────────────────────────┼───────────────┤\n",
              "│ max_pooling2d_5 (\u001b[38;5;33mMaxPooling2D\u001b[0m)  │ (\u001b[38;5;45mNone\u001b[0m, \u001b[38;5;34m26\u001b[0m, \u001b[38;5;34m26\u001b[0m, \u001b[38;5;34m128\u001b[0m)    │             \u001b[38;5;34m0\u001b[0m │\n",
              "├─────────────────────────────────┼────────────────────────┼───────────────┤\n",
              "│ dropout_2 (\u001b[38;5;33mDropout\u001b[0m)             │ (\u001b[38;5;45mNone\u001b[0m, \u001b[38;5;34m26\u001b[0m, \u001b[38;5;34m26\u001b[0m, \u001b[38;5;34m128\u001b[0m)    │             \u001b[38;5;34m0\u001b[0m │\n",
              "├─────────────────────────────────┼────────────────────────┼───────────────┤\n",
              "│ flatten_1 (\u001b[38;5;33mFlatten\u001b[0m)             │ (\u001b[38;5;45mNone\u001b[0m, \u001b[38;5;34m86528\u001b[0m)          │             \u001b[38;5;34m0\u001b[0m │\n",
              "├─────────────────────────────────┼────────────────────────┼───────────────┤\n",
              "│ dense_2 (\u001b[38;5;33mDense\u001b[0m)                 │ (\u001b[38;5;45mNone\u001b[0m, \u001b[38;5;34m64\u001b[0m)             │     \u001b[38;5;34m5,537,856\u001b[0m │\n",
              "├─────────────────────────────────┼────────────────────────┼───────────────┤\n",
              "│ dropout_3 (\u001b[38;5;33mDropout\u001b[0m)             │ (\u001b[38;5;45mNone\u001b[0m, \u001b[38;5;34m64\u001b[0m)             │             \u001b[38;5;34m0\u001b[0m │\n",
              "├─────────────────────────────────┼────────────────────────┼───────────────┤\n",
              "│ dense_3 (\u001b[38;5;33mDense\u001b[0m)                 │ (\u001b[38;5;45mNone\u001b[0m, \u001b[38;5;34m1\u001b[0m)              │            \u001b[38;5;34m65\u001b[0m │\n",
              "└─────────────────────────────────┴────────────────────────┴───────────────┘\n"
            ],
            "text/html": [
              "<pre style=\"white-space:pre;overflow-x:auto;line-height:normal;font-family:Menlo,'DejaVu Sans Mono',consolas,'Courier New',monospace\">┏━━━━━━━━━━━━━━━━━━━━━━━━━━━━━━━━━┳━━━━━━━━━━━━━━━━━━━━━━━━┳━━━━━━━━━━━━━━━┓\n",
              "┃<span style=\"font-weight: bold\"> Layer (type)                    </span>┃<span style=\"font-weight: bold\"> Output Shape           </span>┃<span style=\"font-weight: bold\">       Param # </span>┃\n",
              "┡━━━━━━━━━━━━━━━━━━━━━━━━━━━━━━━━━╇━━━━━━━━━━━━━━━━━━━━━━━━╇━━━━━━━━━━━━━━━┩\n",
              "│ conv2d_4 (<span style=\"color: #0087ff; text-decoration-color: #0087ff\">Conv2D</span>)               │ (<span style=\"color: #00d7ff; text-decoration-color: #00d7ff\">None</span>, <span style=\"color: #00af00; text-decoration-color: #00af00\">222</span>, <span style=\"color: #00af00; text-decoration-color: #00af00\">222</span>, <span style=\"color: #00af00; text-decoration-color: #00af00\">16</span>)   │           <span style=\"color: #00af00; text-decoration-color: #00af00\">448</span> │\n",
              "├─────────────────────────────────┼────────────────────────┼───────────────┤\n",
              "│ conv2d_5 (<span style=\"color: #0087ff; text-decoration-color: #0087ff\">Conv2D</span>)               │ (<span style=\"color: #00d7ff; text-decoration-color: #00d7ff\">None</span>, <span style=\"color: #00af00; text-decoration-color: #00af00\">220</span>, <span style=\"color: #00af00; text-decoration-color: #00af00\">220</span>, <span style=\"color: #00af00; text-decoration-color: #00af00\">36</span>)   │         <span style=\"color: #00af00; text-decoration-color: #00af00\">5,220</span> │\n",
              "├─────────────────────────────────┼────────────────────────┼───────────────┤\n",
              "│ max_pooling2d_3 (<span style=\"color: #0087ff; text-decoration-color: #0087ff\">MaxPooling2D</span>)  │ (<span style=\"color: #00d7ff; text-decoration-color: #00d7ff\">None</span>, <span style=\"color: #00af00; text-decoration-color: #00af00\">110</span>, <span style=\"color: #00af00; text-decoration-color: #00af00\">110</span>, <span style=\"color: #00af00; text-decoration-color: #00af00\">36</span>)   │             <span style=\"color: #00af00; text-decoration-color: #00af00\">0</span> │\n",
              "├─────────────────────────────────┼────────────────────────┼───────────────┤\n",
              "│ conv2d_6 (<span style=\"color: #0087ff; text-decoration-color: #0087ff\">Conv2D</span>)               │ (<span style=\"color: #00d7ff; text-decoration-color: #00d7ff\">None</span>, <span style=\"color: #00af00; text-decoration-color: #00af00\">108</span>, <span style=\"color: #00af00; text-decoration-color: #00af00\">108</span>, <span style=\"color: #00af00; text-decoration-color: #00af00\">64</span>)   │        <span style=\"color: #00af00; text-decoration-color: #00af00\">20,800</span> │\n",
              "├─────────────────────────────────┼────────────────────────┼───────────────┤\n",
              "│ max_pooling2d_4 (<span style=\"color: #0087ff; text-decoration-color: #0087ff\">MaxPooling2D</span>)  │ (<span style=\"color: #00d7ff; text-decoration-color: #00d7ff\">None</span>, <span style=\"color: #00af00; text-decoration-color: #00af00\">54</span>, <span style=\"color: #00af00; text-decoration-color: #00af00\">54</span>, <span style=\"color: #00af00; text-decoration-color: #00af00\">64</span>)     │             <span style=\"color: #00af00; text-decoration-color: #00af00\">0</span> │\n",
              "├─────────────────────────────────┼────────────────────────┼───────────────┤\n",
              "│ conv2d_7 (<span style=\"color: #0087ff; text-decoration-color: #0087ff\">Conv2D</span>)               │ (<span style=\"color: #00d7ff; text-decoration-color: #00d7ff\">None</span>, <span style=\"color: #00af00; text-decoration-color: #00af00\">52</span>, <span style=\"color: #00af00; text-decoration-color: #00af00\">52</span>, <span style=\"color: #00af00; text-decoration-color: #00af00\">128</span>)    │        <span style=\"color: #00af00; text-decoration-color: #00af00\">73,856</span> │\n",
              "├─────────────────────────────────┼────────────────────────┼───────────────┤\n",
              "│ max_pooling2d_5 (<span style=\"color: #0087ff; text-decoration-color: #0087ff\">MaxPooling2D</span>)  │ (<span style=\"color: #00d7ff; text-decoration-color: #00d7ff\">None</span>, <span style=\"color: #00af00; text-decoration-color: #00af00\">26</span>, <span style=\"color: #00af00; text-decoration-color: #00af00\">26</span>, <span style=\"color: #00af00; text-decoration-color: #00af00\">128</span>)    │             <span style=\"color: #00af00; text-decoration-color: #00af00\">0</span> │\n",
              "├─────────────────────────────────┼────────────────────────┼───────────────┤\n",
              "│ dropout_2 (<span style=\"color: #0087ff; text-decoration-color: #0087ff\">Dropout</span>)             │ (<span style=\"color: #00d7ff; text-decoration-color: #00d7ff\">None</span>, <span style=\"color: #00af00; text-decoration-color: #00af00\">26</span>, <span style=\"color: #00af00; text-decoration-color: #00af00\">26</span>, <span style=\"color: #00af00; text-decoration-color: #00af00\">128</span>)    │             <span style=\"color: #00af00; text-decoration-color: #00af00\">0</span> │\n",
              "├─────────────────────────────────┼────────────────────────┼───────────────┤\n",
              "│ flatten_1 (<span style=\"color: #0087ff; text-decoration-color: #0087ff\">Flatten</span>)             │ (<span style=\"color: #00d7ff; text-decoration-color: #00d7ff\">None</span>, <span style=\"color: #00af00; text-decoration-color: #00af00\">86528</span>)          │             <span style=\"color: #00af00; text-decoration-color: #00af00\">0</span> │\n",
              "├─────────────────────────────────┼────────────────────────┼───────────────┤\n",
              "│ dense_2 (<span style=\"color: #0087ff; text-decoration-color: #0087ff\">Dense</span>)                 │ (<span style=\"color: #00d7ff; text-decoration-color: #00d7ff\">None</span>, <span style=\"color: #00af00; text-decoration-color: #00af00\">64</span>)             │     <span style=\"color: #00af00; text-decoration-color: #00af00\">5,537,856</span> │\n",
              "├─────────────────────────────────┼────────────────────────┼───────────────┤\n",
              "│ dropout_3 (<span style=\"color: #0087ff; text-decoration-color: #0087ff\">Dropout</span>)             │ (<span style=\"color: #00d7ff; text-decoration-color: #00d7ff\">None</span>, <span style=\"color: #00af00; text-decoration-color: #00af00\">64</span>)             │             <span style=\"color: #00af00; text-decoration-color: #00af00\">0</span> │\n",
              "├─────────────────────────────────┼────────────────────────┼───────────────┤\n",
              "│ dense_3 (<span style=\"color: #0087ff; text-decoration-color: #0087ff\">Dense</span>)                 │ (<span style=\"color: #00d7ff; text-decoration-color: #00d7ff\">None</span>, <span style=\"color: #00af00; text-decoration-color: #00af00\">1</span>)              │            <span style=\"color: #00af00; text-decoration-color: #00af00\">65</span> │\n",
              "└─────────────────────────────────┴────────────────────────┴───────────────┘\n",
              "</pre>\n"
            ]
          },
          "metadata": {}
        },
        {
          "output_type": "display_data",
          "data": {
            "text/plain": [
              "\u001b[1m Total params: \u001b[0m\u001b[38;5;34m5,638,245\u001b[0m (21.51 MB)\n"
            ],
            "text/html": [
              "<pre style=\"white-space:pre;overflow-x:auto;line-height:normal;font-family:Menlo,'DejaVu Sans Mono',consolas,'Courier New',monospace\"><span style=\"font-weight: bold\"> Total params: </span><span style=\"color: #00af00; text-decoration-color: #00af00\">5,638,245</span> (21.51 MB)\n",
              "</pre>\n"
            ]
          },
          "metadata": {}
        },
        {
          "output_type": "display_data",
          "data": {
            "text/plain": [
              "\u001b[1m Trainable params: \u001b[0m\u001b[38;5;34m5,638,245\u001b[0m (21.51 MB)\n"
            ],
            "text/html": [
              "<pre style=\"white-space:pre;overflow-x:auto;line-height:normal;font-family:Menlo,'DejaVu Sans Mono',consolas,'Courier New',monospace\"><span style=\"font-weight: bold\"> Trainable params: </span><span style=\"color: #00af00; text-decoration-color: #00af00\">5,638,245</span> (21.51 MB)\n",
              "</pre>\n"
            ]
          },
          "metadata": {}
        },
        {
          "output_type": "display_data",
          "data": {
            "text/plain": [
              "\u001b[1m Non-trainable params: \u001b[0m\u001b[38;5;34m0\u001b[0m (0.00 B)\n"
            ],
            "text/html": [
              "<pre style=\"white-space:pre;overflow-x:auto;line-height:normal;font-family:Menlo,'DejaVu Sans Mono',consolas,'Courier New',monospace\"><span style=\"font-weight: bold\"> Non-trainable params: </span><span style=\"color: #00af00; text-decoration-color: #00af00\">0</span> (0.00 B)\n",
              "</pre>\n"
            ]
          },
          "metadata": {}
        }
      ]
    },
    {
      "cell_type": "code",
      "source": [
        "# compile\n",
        "model.compile(optimizer='adam',\n",
        "              loss='binary_crossentropy',\n",
        "              metrics=['accuracy'])"
      ],
      "metadata": {
        "id": "yDiiirTvBkN4"
      },
      "execution_count": 22,
      "outputs": []
    },
    {
      "cell_type": "markdown",
      "source": [
        "# Preparing our data using Data Generator"
      ],
      "metadata": {
        "id": "41G_ncQ2C4Wi"
      }
    },
    {
      "cell_type": "code",
      "source": [
        "def preprocessingImages1(path):\n",
        "  \"\"\"\n",
        "  input : Path\n",
        "  output :Pre processed images\n",
        "  \"\"\"\n",
        "  image_data=ImageDataGenerator(\n",
        "      rescale=1./255,\n",
        "      shear_range=0.2,\n",
        "      zoom_range=0.2,\n",
        "      horizontal_flip=True\n",
        "  )\n",
        "  image=image_data.flow_from_directory(\n",
        "      directory=path,\n",
        "      target_size=(224,224),\n",
        "      batch_size=32,\n",
        "      class_mode='binary'\n",
        "  )\n",
        "  return image\n"
      ],
      "metadata": {
        "id": "DNtW6NbZBpEm"
      },
      "execution_count": 25,
      "outputs": []
    },
    {
      "cell_type": "code",
      "source": [
        "path=\"/content/train\"\n",
        "train_data=preprocessingImages1(path)\n"
      ],
      "metadata": {
        "colab": {
          "base_uri": "https://localhost:8080/"
        },
        "id": "9sAJVG0eEf-D",
        "outputId": "e3144cb7-e706-4496-c402-01b0cf5967e7"
      },
      "execution_count": 26,
      "outputs": [
        {
          "output_type": "stream",
          "name": "stdout",
          "text": [
            "Found 166 images belonging to 2 classes.\n"
          ]
        }
      ]
    },
    {
      "cell_type": "code",
      "source": [
        "def preprocessingImages2(path):\n",
        "  \"\"\"\n",
        "  input : Path\n",
        "  output :Pre processed images\n",
        "  \"\"\"\n",
        "  image_data=ImageDataGenerator(\n",
        "      rescale=1./255,\n",
        "  )\n",
        "  image=image_data.flow_from_directory(\n",
        "      directory=path,\n",
        "      target_size=(224,224),\n",
        "      batch_size=32,\n",
        "      class_mode='binary'\n",
        "  )\n",
        "  return image\n"
      ],
      "metadata": {
        "id": "UiMEHqc9E6Nz"
      },
      "execution_count": 27,
      "outputs": []
    },
    {
      "cell_type": "code",
      "source": [
        "path=\"/content/test\"\n",
        "test_data=preprocessingImages2(path)"
      ],
      "metadata": {
        "colab": {
          "base_uri": "https://localhost:8080/"
        },
        "id": "0wRR00SUFN3N",
        "outputId": "3614585c-4da5-4bf0-c30e-20999422551e"
      },
      "execution_count": 44,
      "outputs": [
        {
          "output_type": "stream",
          "name": "stdout",
          "text": [
            "Found 27 images belonging to 2 classes.\n"
          ]
        }
      ]
    },
    {
      "cell_type": "code",
      "source": [
        "path=\"/content/val\"\n",
        "val_data=preprocessingImages2(path)\n"
      ],
      "metadata": {
        "colab": {
          "base_uri": "https://localhost:8080/"
        },
        "id": "9p0IHNNgFd_w",
        "outputId": "263421c0-dc2e-434f-9ec6-ac48295907f3"
      },
      "execution_count": 31,
      "outputs": [
        {
          "output_type": "stream",
          "name": "stdout",
          "text": [
            "Found 27 images belonging to 2 classes.\n"
          ]
        }
      ]
    },
    {
      "cell_type": "code",
      "source": [
        "# Early stopping and model check point\n",
        "from tensorflow.keras.callbacks import EarlyStopping, ModelCheckpoint\n",
        "\n",
        "# Early stopping\n",
        "es = EarlyStopping(monitor='val_accuracy', min_delta=0.01, patience=3, verbose=1, mode='auto')\n",
        "\n",
        "# Model check point\n",
        "mc = ModelCheckpoint(filepath=\"best_model.h5\", monitor='val_accuracy', verbose=1, save_best_only=True, mode='auto')\n",
        "\n",
        "cd = [es,mc]"
      ],
      "metadata": {
        "id": "aV5agCXdFlMV"
      },
      "execution_count": 32,
      "outputs": []
    },
    {
      "cell_type": "markdown",
      "source": [
        "# Model Training"
      ],
      "metadata": {
        "id": "wVTLAYj1Gctf"
      }
    },
    {
      "cell_type": "code",
      "source": [
        "history =model.fit(\n",
        "    train_data,\n",
        "    steps_per_epoch=8,\n",
        "    epochs=30,\n",
        "    verbose=1,\n",
        "    validation_data=val_data,\n",
        "    validation_steps=16,\n",
        "    callbacks=cd\n",
        "  )"
      ],
      "metadata": {
        "colab": {
          "base_uri": "https://localhost:8080/"
        },
        "id": "lcpKu1AnGR7a",
        "outputId": "0c0054df-45fe-449a-93e8-32b292612582"
      },
      "execution_count": 35,
      "outputs": [
        {
          "output_type": "stream",
          "name": "stdout",
          "text": [
            "Epoch 1/30\n"
          ]
        },
        {
          "output_type": "stream",
          "name": "stderr",
          "text": [
            "/usr/local/lib/python3.11/dist-packages/keras/src/trainers/data_adapters/py_dataset_adapter.py:121: UserWarning: Your `PyDataset` class should call `super().__init__(**kwargs)` in its constructor. `**kwargs` can include `workers`, `use_multiprocessing`, `max_queue_size`. Do not pass these arguments to `fit()`, as they will be ignored.\n",
            "  self._warn_if_super_not_called()\n"
          ]
        },
        {
          "output_type": "stream",
          "name": "stdout",
          "text": [
            "\r\u001b[1m1/8\u001b[0m \u001b[32m━━\u001b[0m\u001b[37m━━━━━━━━━━━━━━━━━━\u001b[0m \u001b[1m1:25\u001b[0m 12s/step - accuracy: 0.5926 - loss: 0.6873"
          ]
        },
        {
          "output_type": "stream",
          "name": "stderr",
          "text": [
            "/usr/local/lib/python3.11/dist-packages/keras/src/trainers/epoch_iterator.py:107: UserWarning: Your input ran out of data; interrupting training. Make sure that your dataset or generator can generate at least `steps_per_epoch * epochs` batches. You may need to use the `.repeat()` function when building your dataset.\n",
            "  self._interrupted_warning()\n"
          ]
        },
        {
          "output_type": "stream",
          "name": "stdout",
          "text": [
            "\n",
            "Epoch 1: val_accuracy improved from -inf to 0.66667, saving model to best_model.h5\n"
          ]
        },
        {
          "output_type": "stream",
          "name": "stderr",
          "text": [
            "WARNING:absl:You are saving your model as an HDF5 file via `model.save()` or `keras.saving.save_model(model)`. This file format is considered legacy. We recommend using instead the native Keras format, e.g. `model.save('my_model.keras')` or `keras.saving.save_model(model, 'my_model.keras')`. \n"
          ]
        },
        {
          "output_type": "stream",
          "name": "stdout",
          "text": [
            "\b\b\b\b\b\b\b\b\b\b\b\b\b\b\b\b\b\b\b\b\b\b\b\b\b\b\b\b\b\b\b\b\b\b\b\b\b\b\b\b\b\b\b\b\b\b\b\b\b\b\b\b\b\b\b\b\b\b\b\b\b\b\b\b\b\b\b\b\b\b\b\b\r\u001b[1m8/8\u001b[0m \u001b[32m━━━━━━━━━━━━━━━━━━━━\u001b[0m\u001b[37m\u001b[0m \u001b[1m14s\u001b[0m 286ms/step - accuracy: 0.5926 - loss: 0.6873 - val_accuracy: 0.6667 - val_loss: 0.6712\n",
            "Epoch 2/30\n",
            "\u001b[1m1/8\u001b[0m \u001b[32m━━\u001b[0m\u001b[37m━━━━━━━━━━━━━━━━━━\u001b[0m \u001b[1m1:00\u001b[0m 9s/step - accuracy: 0.6667 - loss: 0.6430\n",
            "Epoch 2: val_accuracy improved from 0.66667 to 0.88889, saving model to best_model.h5\n"
          ]
        },
        {
          "output_type": "stream",
          "name": "stderr",
          "text": [
            "WARNING:absl:You are saving your model as an HDF5 file via `model.save()` or `keras.saving.save_model(model)`. This file format is considered legacy. We recommend using instead the native Keras format, e.g. `model.save('my_model.keras')` or `keras.saving.save_model(model, 'my_model.keras')`. \n"
          ]
        },
        {
          "output_type": "stream",
          "name": "stdout",
          "text": [
            "\b\b\b\b\b\b\b\b\b\b\b\b\b\b\b\b\b\b\b\b\b\b\b\b\b\b\b\b\b\b\b\b\b\b\b\b\b\b\b\b\b\b\b\b\b\b\b\b\b\b\b\b\b\b\b\b\b\b\b\b\b\b\b\b\b\b\b\b\b\b\b\r\u001b[1m8/8\u001b[0m \u001b[32m━━━━━━━━━━━━━━━━━━━━\u001b[0m\u001b[37m\u001b[0m \u001b[1m9s\u001b[0m 44ms/step - accuracy: 0.6667 - loss: 0.6430 - val_accuracy: 0.8889 - val_loss: 0.4898\n",
            "Epoch 3/30\n",
            "\u001b[1m1/8\u001b[0m \u001b[32m━━\u001b[0m\u001b[37m━━━━━━━━━━━━━━━━━━\u001b[0m \u001b[1m2s\u001b[0m 294ms/step - accuracy: 0.8889 - loss: 0.4880\n",
            "Epoch 3: val_accuracy did not improve from 0.88889\n",
            "\u001b[1m8/8\u001b[0m \u001b[32m━━━━━━━━━━━━━━━━━━━━\u001b[0m\u001b[37m\u001b[0m \u001b[1m0s\u001b[0m 15ms/step - accuracy: 0.8889 - loss: 0.4880 - val_accuracy: 0.8519 - val_loss: 0.4542\n",
            "Epoch 4/30\n",
            "\u001b[1m1/8\u001b[0m \u001b[32m━━\u001b[0m\u001b[37m━━━━━━━━━━━━━━━━━━\u001b[0m \u001b[1m0s\u001b[0m 143ms/step - accuracy: 0.8519 - loss: 0.4731\n",
            "Epoch 4: val_accuracy did not improve from 0.88889\n",
            "\u001b[1m8/8\u001b[0m \u001b[32m━━━━━━━━━━━━━━━━━━━━\u001b[0m\u001b[37m\u001b[0m \u001b[1m0s\u001b[0m 15ms/step - accuracy: 0.8519 - loss: 0.4731 - val_accuracy: 0.8889 - val_loss: 0.3795\n",
            "Epoch 5/30\n",
            "\u001b[1m1/8\u001b[0m \u001b[32m━━\u001b[0m\u001b[37m━━━━━━━━━━━━━━━━━━\u001b[0m \u001b[1m0s\u001b[0m 135ms/step - accuracy: 0.8519 - loss: 0.4050\n",
            "Epoch 5: val_accuracy did not improve from 0.88889\n",
            "\u001b[1m8/8\u001b[0m \u001b[32m━━━━━━━━━━━━━━━━━━━━\u001b[0m\u001b[37m\u001b[0m \u001b[1m0s\u001b[0m 14ms/step - accuracy: 0.8519 - loss: 0.4050 - val_accuracy: 0.8889 - val_loss: 0.3473\n",
            "Epoch 5: early stopping\n"
          ]
        }
      ]
    },
    {
      "cell_type": "code",
      "source": [
        "h= history.history\n",
        "h.keys()"
      ],
      "metadata": {
        "colab": {
          "base_uri": "https://localhost:8080/"
        },
        "id": "jsFnkMi6IGo2",
        "outputId": "896ea3c4-d526-45d3-e8f6-d12e5b915c23"
      },
      "execution_count": 36,
      "outputs": [
        {
          "output_type": "execute_result",
          "data": {
            "text/plain": [
              "dict_keys(['accuracy', 'loss', 'val_accuracy', 'val_loss'])"
            ]
          },
          "metadata": {},
          "execution_count": 36
        }
      ]
    },
    {
      "cell_type": "code",
      "source": [
        "# Model Graphical Interpretation\n",
        "\n",
        "import matplotlib.pyplot as plt\n",
        "plt.style.use('default')\n",
        "# Récupération des valeurs d'entraînement et de validation\n",
        "acc = history.history['accuracy']\n",
        "val_acc = history.history['val_accuracy']\n",
        "loss = history.history['loss']\n",
        "val_loss = history.history['val_loss']\n",
        "\n",
        "# Création de la figure\n",
        "plt.figure(figsize=(14, 5))\n",
        "\n",
        "# Précision (Accuracy)\n",
        "plt.subplot(1, 2, 1)\n",
        "plt.plot(acc, label='Training Accuracy', marker='o')\n",
        "plt.plot(val_acc, label='Validation Accuracy', marker='o')\n",
        "plt.title('Accuracy over epochs')\n",
        "plt.xlabel('Epochs')\n",
        "plt.ylabel('Accuracy')\n",
        "plt.legend()\n",
        "plt.grid(True)\n",
        "\n",
        "# Perte (Loss)\n",
        "plt.subplot(1, 2, 2)\n",
        "plt.plot(loss, label='Training Loss', marker='o')\n",
        "plt.plot(val_loss, label='Validation Loss', marker='o')\n",
        "plt.title('Loss over epochs')\n",
        "plt.xlabel('Epochs')\n",
        "plt.ylabel('Loss')\n",
        "plt.legend()\n",
        "plt.grid(True)\n",
        "\n",
        "plt.tight_layout()\n",
        "plt.show()\n"
      ],
      "metadata": {
        "colab": {
          "base_uri": "https://localhost:8080/",
          "height": 312
        },
        "id": "Dpjgt1JTIG3Q",
        "outputId": "65702ef4-338f-4001-ce03-9e3c31f98038"
      },
      "execution_count": 42,
      "outputs": [
        {
          "output_type": "display_data",
          "data": {
            "text/plain": [
              "<Figure size 1400x500 with 2 Axes>"
            ],
            "image/png": "[encoded data removed]"
          },
          "metadata": {}
        }
      ]
    },
    {
      "cell_type": "code",
      "source": [
        "# Model Accuracy\n",
        "from tensorflow.keras.models import load_model\n",
        "\n",
        "model = load_model('/content/best_model.h5')"
      ],
      "metadata": {
        "colab": {
          "base_uri": "https://localhost:8080/"
        },
        "id": "KyCQHdZVIGb4",
        "outputId": "386a2baa-8db9-4392-dd3e-55795c59a60f"
      },
      "execution_count": 43,
      "outputs": [
        {
          "output_type": "stream",
          "name": "stderr",
          "text": [
            "WARNING:absl:Compiled the loaded model, but the compiled metrics have yet to be built. `model.compile_metrics` will be empty until you train or evaluate the model.\n"
          ]
        }
      ]
    },
    {
      "cell_type": "markdown",
      "source": [
        "# Model Accuracy"
      ],
      "metadata": {
        "id": "ZtM_Ke1WKkRP"
      }
    },
    {
      "cell_type": "code",
      "source": [
        "acc=model.evaluate(test_data)[1]\n",
        "\n",
        "print(f\"The accuracy of the model is {acc*100} %\")\n"
      ],
      "metadata": {
        "colab": {
          "base_uri": "https://localhost:8080/"
        },
        "id": "BZjF5OKdKixZ",
        "outputId": "19030456-5b9a-4312-de15-aea767fab2e9"
      },
      "execution_count": 48,
      "outputs": [
        {
          "output_type": "stream",
          "name": "stdout",
          "text": [
            "\u001b[1m1/1\u001b[0m \u001b[32m━━━━━━━━━━━━━━━━━━━━\u001b[0m\u001b[37m\u001b[0m \u001b[1m0s\u001b[0m 142ms/step - accuracy: 0.7037 - loss: 0.5700\n",
            "The accuracy of the model is 70.37037014961243 %\n"
          ]
        }
      ]
    },
    {
      "cell_type": "code",
      "source": [
        "from tensorflow.keras.preprocessing.image import load_img, img_to_array\n"
      ],
      "metadata": {
        "id": "6oLO-zXaLa_-"
      },
      "execution_count": 51,
      "outputs": []
    },
    {
      "cell_type": "code",
      "source": [
        "path=\"/content/BrainTumorDataset/brain_tumor_dataset/no/13 no.jpg\"\n",
        "img = load_img(path,target_size=(224,224))\n",
        "input_arr = img_to_array(img)/255\n",
        "\n",
        "plt.imshow(input_arr)\n",
        "plt.show()\n",
        "\n",
        "input_arr.shape\n",
        "input_arr = np.expand_dims(input_arr,axis =0)  # Convert single image to a batch.\n",
        "predictions = model.predict(input_arr)[0][0]\n",
        "predictions\n",
        "\n",
        "print(\"Prediction score:\", predictions)\n",
        "if predictions > 0.5:\n",
        "    print(\"⚠️ Brain tumor detected\")\n",
        "else:\n",
        "    print(\"✅ No brain tumor detected\")"
      ],
      "metadata": {
        "colab": {
          "base_uri": "https://localhost:8080/",
          "height": 485
        },
        "id": "wbTx3CYALRht",
        "outputId": "6a9ef394-f276-4da7-bb6a-354b97458a16"
      },
      "execution_count": 57,
      "outputs": [
        {
          "output_type": "display_data",
          "data": {
            "text/plain": [
              "<Figure size 640x480 with 1 Axes>"
            ],
            "image/png": "[encoded data removed]"
          },
          "metadata": {}
        },
        {
          "output_type": "stream",
          "name": "stdout",
          "text": [
            "\u001b[1m1/1\u001b[0m \u001b[32m━━━━━━━━━━━━━━━━━━━━\u001b[0m\u001b[37m\u001b[0m \u001b[1m0s\u001b[0m 31ms/step\n",
            "Prediction score: 0.4351447\n",
            "✅ No brain tumor detected\n"
          ]
        }
      ]
    },
    {
      "cell_type": "code",
      "source": [],
      "metadata": {
        "id": "T5KlCXfmMB-W"
      },
      "execution_count": null,
      "outputs": []
    }
  ]
}